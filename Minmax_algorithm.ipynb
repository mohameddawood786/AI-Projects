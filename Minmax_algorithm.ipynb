{
  "nbformat": 4,
  "nbformat_minor": 0,
  "metadata": {
    "colab": {
      "provenance": []
    },
    "kernelspec": {
      "name": "python3",
      "display_name": "Python 3"
    },
    "language_info": {
      "name": "python"
    }
  },
  "cells": [
    {
      "cell_type": "markdown",
      "source": [
        "The **minimax algorithm** is a decision-making algorithm used in two-player games, like chess or tic-tac-toe. It explores all possible moves of the game, assuming that both players play optimally, and selects the move that minimizes the maximum possible loss (or maximizes the minimum possible gain). The alpha-beta pruning is a technique used to reduce the number of nodes evaluated in the minimax algorithm by eliminating branches that cannot possibly influence the final decision."
      ],
      "metadata": {
        "id": "-s4vWu0xgFxs"
      }
    },
    {
      "cell_type": "code",
      "execution_count": 1,
      "metadata": {
        "colab": {
          "base_uri": "https://localhost:8080/"
        },
        "id": "zVAIB9BDfybk",
        "outputId": "e2952ca5-38dc-410a-8420-b40ed176ce44"
      },
      "outputs": [
        {
          "output_type": "stream",
          "name": "stdout",
          "text": [
            "Utility value: 1\n"
          ]
        }
      ],
      "source": [
        "import math\n",
        "\n",
        "def is_terminal(board):\n",
        "    # Check if the game is over (terminal state)\n",
        "    return any(check_winner(board, symbol) for symbol in ['X', 'O']) or not any(' ' in row for row in board)\n",
        "\n",
        "def check_winner(board, symbol):\n",
        "    # Check if the given symbol has won in any row, column, or diagonal\n",
        "    for i in range(3):\n",
        "        # Check rows and columns\n",
        "        if all(board[i][j] == symbol for j in range(3)) or all(board[j][i] == symbol for j in range(3)):\n",
        "            return True\n",
        "    # Check diagonals\n",
        "    if all(board[i][i] == symbol for i in range(3)) or all(board[i][2 - i] == symbol for i in range(3)):\n",
        "        return True\n",
        "    return False\n",
        "\n",
        "def evaluate(board):\n",
        "    # Evaluate the board and return a numerical value representing the utility\n",
        "    if check_winner(board, 'X'):\n",
        "        return 1  # Player 'X' wins\n",
        "    elif check_winner(board, 'O'):\n",
        "        return -1  # Player 'O' wins\n",
        "    else:\n",
        "        return 0  # It's a draw\n",
        "\n",
        "def get_children(board, maximizing_player):\n",
        "    # Generate and return a list of child nodes from the given board\n",
        "    symbol = 'X' if maximizing_player else 'O'\n",
        "    children = []\n",
        "\n",
        "    for i in range(3):\n",
        "        for j in range(3):\n",
        "            if board[i][j] == ' ':\n",
        "                child = [row.copy() for row in board]\n",
        "                child[i][j] = symbol\n",
        "                children.append(child)\n",
        "\n",
        "    return children\n",
        "\n",
        "def minimax_alpha_beta_pruning(node, depth, alpha, beta, maximizing_player):\n",
        "    if depth == 0 or is_terminal(node):\n",
        "        return evaluate(node)\n",
        "\n",
        "    if maximizing_player:\n",
        "        max_eval = -math.inf\n",
        "        for child in get_children(node, True):\n",
        "            eval_child = minimax_alpha_beta_pruning(child, depth - 1, alpha, beta, False)\n",
        "            max_eval = max(max_eval, eval_child)\n",
        "            alpha = max(alpha, eval_child)\n",
        "            if beta <= alpha:\n",
        "                break  # Beta cutoff\n",
        "        return max_eval\n",
        "    else:\n",
        "        min_eval = math.inf\n",
        "        for child in get_children(node, False):\n",
        "            eval_child = minimax_alpha_beta_pruning(child, depth - 1, alpha, beta, True)\n",
        "            min_eval = min(min_eval, eval_child)\n",
        "            beta = min(beta, eval_child)\n",
        "            if beta <= alpha:\n",
        "                break  # Alpha cutoff\n",
        "        return min_eval\n",
        "\n",
        "# Example usage:\n",
        "initial_board = [['X', ' ', 'O'],\n",
        "                 [' ', 'X', 'O'],\n",
        "                 [' ', ' ', 'X']]\n",
        "\n",
        "result = minimax_alpha_beta_pruning(initial_board, depth=3, alpha=-math.inf, beta=math.inf, maximizing_player=True)\n",
        "print(\"Utility value:\", result)\n"
      ]
    },
    {
      "cell_type": "code",
      "source": [
        "import math\n",
        "def minimax(curdepth,nodeindex,maxturn,scores,targetdepth):\n",
        "  if(curdepth==targetdepth):\n",
        "    return scores[nodeindex]\n",
        "  if(maxturn):\n",
        "    return max(minimax(curdepth+1,nodeindex*2,False,scores,\n",
        "targetdepth),minimax(curdepth+1,nodeindex*2+1,False,scores,\n",
        "targetdepth))\n",
        "  else:\n",
        "    return max(minimax(curdepth+1,nodeindex*2,True,scores,\n",
        "targetdepth),minimax(curdepth+1,nodeindex*2+1,True,scores,\n",
        "targetdepth))\n",
        "scores=[3,5,2,9,12,5,23,23]\n",
        "treedepth=math.log(len(scores),2)\n",
        "print(\"The optimal value is :\",end=\"\")\n",
        "print(minimax(0,0,True,scores,treedepth))"
      ],
      "metadata": {
        "colab": {
          "base_uri": "https://localhost:8080/"
        },
        "id": "eSH3RPSm0Imt",
        "outputId": "bf6d0d0f-a49a-4e5f-9978-f058f5165649"
      },
      "execution_count": 3,
      "outputs": [
        {
          "output_type": "stream",
          "name": "stdout",
          "text": [
            "The optimal value is :23\n"
          ]
        }
      ]
    },
    {
      "cell_type": "code",
      "source": [
        "MAX, MIN = 1000, -1000\n",
        "def minimax(depth, nodeIndex, maximizingPlayer, values, alpha, beta):\n",
        "    if depth == 3:\n",
        "        return values[nodeIndex]\n",
        "    if maximizingPlayer:\n",
        "        best = MIN\n",
        "        for i in range(0, 2):\n",
        "            val = minimax(depth + 1, nodeIndex * 2 + i, False, values, alpha, beta)\n",
        "            best = max(best, val)\n",
        "            alpha = max(alpha, best)\n",
        "            if beta <= alpha:\n",
        "                break\n",
        "        return best\n",
        "    else:\n",
        "        best = MAX\n",
        "        for i in range(0, 2):\n",
        "            val = minimax(depth + 1, nodeIndex * 2 + i, True, values, alpha, beta)\n",
        "            best = min(best, val)\n",
        "            beta = min(beta, best)\n",
        "            if beta <= alpha:\n",
        "                break\n",
        "        return best\n",
        "if __name__ == \"__main__\":\n",
        "    values = [3, 5, 6, 9, 1, 2, 0, -1]\n",
        "    print(\"The optimal value is :\", minimax(0, 0, True, values, MIN, MAX))"
      ],
      "metadata": {
        "colab": {
          "base_uri": "https://localhost:8080/"
        },
        "id": "Ong-s7GWmH-Z",
        "outputId": "80737866-37e1-4286-e9c7-e6087b928b9e"
      },
      "execution_count": 2,
      "outputs": [
        {
          "output_type": "stream",
          "name": "stdout",
          "text": [
            "The optimal value is : 5\n"
          ]
        }
      ]
    }
  ]
}