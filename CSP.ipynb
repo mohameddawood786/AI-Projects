{
  "nbformat": 4,
  "nbformat_minor": 0,
  "metadata": {
    "colab": {
      "provenance": []
    },
    "kernelspec": {
      "name": "python3",
      "display_name": "Python 3"
    },
    "language_info": {
      "name": "python"
    }
  },
  "cells": [
    {
      "cell_type": "markdown",
      "source": [
        "**Constraint Satisfaction Problem (CSP)** in artificial intelligence (AI) that deals with solving problems by identifying constraints and finding solutions that satisfy those constraints. CSP has a wide range of applications, including scheduling, resource allocation, and automated reasoning."
      ],
      "metadata": {
        "id": "wuNWkudsRm9h"
      }
    },
    {
      "cell_type": "code",
      "source": [
        "\n",
        "class Graph:\n",
        "    def __init__(self, edges, n):\n",
        "        self.adjList = [[] for _ in range(n)]\n",
        "        for (src, dest) in edges:\n",
        "            self.adjList[src].append(dest)\n",
        "            self.adjList[dest].append(src)\n",
        "def colorGraph(graph, n):\n",
        "    result = {}\n",
        "    for u in range(n):\n",
        "        assigned = set([result.get(i) for i in graph.adjList[u] if i in result])\n",
        "        color = 1\n",
        "        for c in assigned:\n",
        "            if color != c:\n",
        "                break\n",
        "            color = color + 1\n",
        "        result[u] = color\n",
        "    for v in range(n):\n",
        "        print(f'Color assigned to vertex {v} is {colors[result[v]]}')\n",
        "if __name__ == '__main__':\n",
        "    colors = ['', 'BLUE', 'GREEN', 'RED', 'YELLOW', 'ORANGE', 'PINK','BLACK', 'BROWN', 'WHITE', 'PURPLE', 'VOILET']\n",
        "    edges = [(0, 1), (0, 4), (0, 5), (4, 5), (1, 4), (1, 3), (2, 3), (2, 4)]\n",
        "    n=6\n",
        "    graph = Graph(edges,n)\n",
        "    colorGraph(graph,n)"
      ],
      "metadata": {
        "colab": {
          "base_uri": "https://localhost:8080/"
        },
        "id": "4xABP_GZm6EY",
        "outputId": "d3f2e28e-017a-47e3-950c-f634c3747454"
      },
      "execution_count": null,
      "outputs": [
        {
          "output_type": "stream",
          "name": "stdout",
          "text": [
            "Color assigned to vertex 0 is BLUE\n",
            "Color assigned to vertex 1 is GREEN\n",
            "Color assigned to vertex 2 is BLUE\n",
            "Color assigned to vertex 3 is RED\n",
            "Color assigned to vertex 4 is RED\n",
            "Color assigned to vertex 5 is GREEN\n"
          ]
        }
      ]
    }
  ]
}