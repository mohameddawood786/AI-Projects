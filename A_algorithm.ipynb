{
  "nbformat": 4,
  "nbformat_minor": 0,
  "metadata": {
    "colab": {
      "provenance": []
    },
    "kernelspec": {
      "name": "python3",
      "display_name": "Python 3"
    },
    "language_info": {
      "name": "python"
    }
  },
  "cells": [
    {
      "cell_type": "markdown",
      "source": [
        "This code defines a class called Graph and implements the **A* algorithm** for finding the shortest path in a weighted graph. The A* algorithm uses both the cost to reach a node (g) and a heuristic function (h) to estimate the cost from the current node to the goal."
      ],
      "metadata": {
        "id": "lGAOfgYffPDs"
      }
    },
    {
      "cell_type": "code",
      "source": [
        "from collections import deque\n",
        "class Graph:\n",
        "    def __init__(self, adjacency_list):\n",
        "        self.adjacency_list = adjacency_list\n",
        "    def get_neighbors(self, v):\n",
        "        return self.adjacency_list[v]\n",
        "    def h(self, n):\n",
        "        H = {\n",
        "            'A': 1,\n",
        "            'B': 1,\n",
        "            'C': 1,\n",
        "            'D': 1\n",
        "        }\n",
        "        return H[n]\n",
        "    def a_star_algorithm(self, start_node, stop_node):\n",
        "        open_list = set([start_node])\n",
        "        closed_list = set([])\n",
        "        g = {}\n",
        "        g[start_node] = 0\n",
        "        parents = {}\n",
        "        parents[start_node] = start_node\n",
        "        while len(open_list) > 0:\n",
        "            n = None\n",
        "            for v in open_list:\n",
        "                if n == None or g[v] + self.h(v) < g[n] + self.h(n):\n",
        "                    n = v;\n",
        "            if n == None:\n",
        "                print('Path does not exist!')\n",
        "                return None\n",
        "            if n == stop_node:\n",
        "                reconst_path = []\n",
        "                while parents[n] != n:\n",
        "                    reconst_path.append(n)\n",
        "                    n = parents[n]\n",
        "                reconst_path.append(start_node)\n",
        "                reconst_path.reverse()\n",
        "                print('Path found: {}'.format(reconst_path))\n",
        "                return reconst_path\n",
        "            for (m, weight) in self.get_neighbors(n):\n",
        "                if m not in open_list and m not in closed_list:\n",
        "                    open_list.add(m)\n",
        "                    parents[m] = n\n",
        "                    g[m] = g[n] + weight\n",
        "                else:\n",
        "                    if g[m] > g[n] + weight:\n",
        "                        g[m] = g[n] + weight\n",
        "                        parents[m] = n\n",
        "\n",
        "                        if m in closed_list:\n",
        "                            closed_list.remove(m)\n",
        "                            open_list.add(m)\n",
        "            open_list.remove(n)\n",
        "            closed_list.add(n)\n",
        "        print('Path does not exist!')\n",
        "        return None\n",
        "adjacency_list = {\n",
        "    'A': [('B', 1), ('C', 3), ('D', 7)],\n",
        "    'B': [('D', 5)],\n",
        "    'C': [('D', 12)]\n",
        "}\n",
        "graph1 = Graph(adjacency_list)\n",
        "graph1.a_star_algorithm('A', 'D')"
      ],
      "metadata": {
        "colab": {
          "base_uri": "https://localhost:8080/"
        },
        "id": "TVz_yL2DkWy6",
        "outputId": "12814319-85dd-45d8-a56a-8c24bf774674"
      },
      "execution_count": 1,
      "outputs": [
        {
          "output_type": "stream",
          "name": "stdout",
          "text": [
            "Path found: ['A', 'B', 'D']\n"
          ]
        },
        {
          "output_type": "execute_result",
          "data": {
            "text/plain": [
              "['A', 'B', 'D']"
            ]
          },
          "metadata": {},
          "execution_count": 1
        }
      ]
    }
  ]
}