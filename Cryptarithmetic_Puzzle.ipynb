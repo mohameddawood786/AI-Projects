{
  "nbformat": 4,
  "nbformat_minor": 0,
  "metadata": {
    "colab": {
      "provenance": []
    },
    "kernelspec": {
      "name": "python3",
      "display_name": "Python 3"
    },
    "language_info": {
      "name": "python"
    }
  },
  "cells": [
    {
      "cell_type": "markdown",
      "source": [
        "This code is for solving a** cryptarithmetic puzzle**, where each letter represents a digit (0-9), and the goal is to assign digits to letters in such a way that the given arithmetic equation holds true. In this case, the puzzle consists of a list of words (arr) and a result word (S). The task is to find a valid assignment of digits to letters such that the sum of the values represented by the words in the list equals the value represented by the result word."
      ],
      "metadata": {
        "id": "Tf3qGkgneizE"
      }
    },
    {
      "cell_type": "code",
      "source": [
        "def isSolvable(words, result):\n",
        "    mp = [-1]*(26)\n",
        "    used = [0]*(10)\n",
        "    Hash = [0]*(26)\n",
        "    CharAtfront = [0]*(26)\n",
        "    uniq = \"\"\n",
        "    for word in range(len(words)):\n",
        "        for i in range(len(words[word])):\n",
        "            ch = words[word][i]\n",
        "            Hash[ord(ch) - ord('A')] += pow(10, len(words[word]) - i - 1)\n",
        "            if mp[ord(ch) - ord('A')] == -1:\n",
        "\n",
        "                mp[ord(ch) - ord('A')] = 0\n",
        "                uniq += str(ch)\n",
        "            if i == 0 and len(words[word]) > 1:\n",
        "                CharAtfront[ord(ch) - ord('A')] = 1\n",
        "    for i in range(len(result)):\n",
        "        ch = result[i]\n",
        "        Hash[ord(ch) - ord('A')] -= pow(10, len(result) - i - 1)\n",
        "        if mp[ord(ch) - ord('A')] == -1:\n",
        "            mp[ord(ch) - ord('A')] = 0\n",
        "            uniq += str(ch)\n",
        "        if i == 0 and len(result) > 1:\n",
        "            CharAtfront[ord(ch) - ord('A')] = 1\n",
        "    mp = [-1]*(26)\n",
        "    return True\n",
        "def solve(words, i, S, mp, used, Hash, CharAtfront):\n",
        "    if i == len(words):\n",
        "        return S == 0\n",
        "    ch = words[i]\n",
        "    val = mp[ord(words[i]) - ord('A')]\n",
        "    if val != -1:\n",
        "        return solve(words, i + 1, S + val * Hash[ord(ch) - ord('A')], mp, used, Hash, CharAtfront)\n",
        "    x = False\n",
        "    for l in range(10):\n",
        "        if CharAtfront[ord(ch) - ord('A')] == 1 and l == 0:\n",
        "            continue\n",
        "        if used[l] == 1:\n",
        "            continue\n",
        "        mp[ord(ch) - ord('A')] = l\n",
        "        used[l] = 1\n",
        "        x |= solve(words, i + 1, S + l * Hash[ord(ch) - ord('A')], mp, used, Hash, CharAtfront)\n",
        "        mp[ord(ch) - ord('A')] = -1\n",
        "        used[l] = 0\n",
        "    return x\n",
        "arr = [ \"SIX\", \"SEVEN\", \"SEVEN\" ]\n",
        "S = \"TWENTY\"\n",
        "if isSolvable(arr, S):\n",
        "    print(\"Yes\")\n",
        "else:\n",
        "    print(\"No\")"
      ],
      "metadata": {
        "colab": {
          "base_uri": "https://localhost:8080/"
        },
        "id": "meJkDIYUivuZ",
        "outputId": "ac00fb8f-de28-4520-9356-ad60a32e08cf"
      },
      "execution_count": 1,
      "outputs": [
        {
          "output_type": "stream",
          "name": "stdout",
          "text": [
            "Yes\n"
          ]
        }
      ]
    }
  ]
}