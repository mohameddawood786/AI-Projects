{
  "nbformat": 4,
  "nbformat_minor": 0,
  "metadata": {
    "colab": {
      "provenance": []
    },
    "kernelspec": {
      "name": "python3",
      "display_name": "Python 3"
    },
    "language_info": {
      "name": "python"
    }
  },
  "cells": [
    {
      "cell_type": "markdown",
      "source": [
        "Solution of the **8 puzzle problem**\n",
        "Given a 3×3 board with 8 tiles (every tile has one number from 1 to 8) and one empty space. The objective is to place the numbers on tiles to match the final configuration using the empty space. We can slide four adjacent (left, right, above, and below) tiles into the empty space."
      ],
      "metadata": {
        "id": "ba2uf4oluNbe"
      }
    },
    {
      "cell_type": "code",
      "source": [
        "\n",
        "import copy\n",
        "from heapq import heappush, heappop\n",
        "n = 3\n",
        "row = [ 1, 0, -1, 0 ]\n",
        "col = [ 0, -1, 0, 1 ]\n",
        "class priorityQueue:\n",
        "    def __init__(self):\n",
        "        self.heap = []\n",
        "    def push(self, k):\n",
        "        heappush(self.heap, k)\n",
        "    def pop(self):\n",
        "        return heappop(self.heap)\n",
        "    def empty(self):\n",
        "        if not self.heap:\n",
        "            return True\n",
        "        else:\n",
        "            return False\n",
        "class node:\n",
        "    def __init__(self, parent, mat, empty_tile_pos, cost, level):\n",
        "        self.parent = parent\n",
        "        self.mat = mat\n",
        "        self.empty_tile_pos = empty_tile_pos\n",
        "        self.cost = cost\n",
        "        self.level = level\n",
        "    def __lt__(self, nxt):\n",
        "        return self.cost < nxt.cost\n",
        "def calculateCost(mat, final) -> int:\n",
        "    count = 0\n",
        "    for i in range(n):\n",
        "        for j in range(n):\n",
        "            if ((mat[i][j]) and\n",
        "                (mat[i][j] != final[i][j])):\n",
        "                count += 1\n",
        "    return count\n",
        "def newNode(mat, empty_tile_pos, new_empty_tile_pos, level, parent, final) -> node:\n",
        "    new_mat = copy.deepcopy(mat)\n",
        "    x1 = empty_tile_pos[0]\n",
        "    y1 = empty_tile_pos[1]\n",
        "    x2 = new_empty_tile_pos[0]\n",
        "    y2 = new_empty_tile_pos[1]\n",
        "    new_mat[x1][y1], new_mat[x2][y2] = new_mat[x2][y2], new_mat[x1][y1]\n",
        "    cost = calculateCost(new_mat, final)\n",
        "    new_node = node(parent, new_mat, new_empty_tile_pos, cost, level)\n",
        "    return new_node\n",
        "def printMatrix(mat):\n",
        "    for i in range(n):\n",
        "        for j in range(n):\n",
        "            print(\"%d \" % (mat[i][j]), end = \" \")\n",
        "        print()\n",
        "def isSafe(x, y):\n",
        "    return x >= 0 and x < n and y >= 0 and y < n\n",
        "def printPath(root):\n",
        "    if root == None:\n",
        "        return\n",
        "    printPath(root.parent)\n",
        "    printMatrix(root.mat)\n",
        "    print()\n",
        "def solve(initial, empty_tile_pos, final):\n",
        "    pq = priorityQueue()\n",
        "    cost = calculateCost(initial, final)\n",
        "    root = node(None, initial,empty_tile_pos, cost, 0)\n",
        "    pq.push(root)\n",
        "    while not pq.empty():\n",
        "        minimum = pq.pop()\n",
        "        if minimum.cost == 0:\n",
        "            printPath(minimum)\n",
        "            return\n",
        "        for i in range(4):\n",
        "            new_tile_pos = [\n",
        "                minimum.empty_tile_pos[0] + row[i],\n",
        "                minimum.empty_tile_pos[1] + col[i], ]\n",
        "            if isSafe(new_tile_pos[0], new_tile_pos[1]):\n",
        "                child = newNode(minimum.mat,\n",
        "                                minimum.empty_tile_pos,\n",
        "                                new_tile_pos,\n",
        "                                minimum.level + 1,\n",
        "                                minimum, final,)\n",
        "                pq.push(child)\n",
        "initial = [ [ 1, 2, 3 ],\n",
        "\n",
        "            [ 5, 6, 0 ],\n",
        "\n",
        "            [ 7, 8, 4 ] ]\n",
        "final = [ [ 1, 2, 3 ],\n",
        "\n",
        "          [ 5, 8, 6 ],\n",
        "\n",
        "          [ 0, 7, 4 ] ]\n",
        "empty_tile_pos = [ 1, 2 ]\n",
        "solve(initial, empty_tile_pos, final)"
      ],
      "metadata": {
        "colab": {
          "base_uri": "https://localhost:8080/"
        },
        "id": "eBrVZc0jghgM",
        "outputId": "c3e3d0ec-8736-4088-bbf2-a7d7016d17af"
      },
      "execution_count": 1,
      "outputs": [
        {
          "output_type": "stream",
          "name": "stdout",
          "text": [
            "1  2  3  \n",
            "5  6  0  \n",
            "7  8  4  \n",
            "\n",
            "1  2  3  \n",
            "5  0  6  \n",
            "7  8  4  \n",
            "\n",
            "1  2  3  \n",
            "5  8  6  \n",
            "7  0  4  \n",
            "\n",
            "1  2  3  \n",
            "5  8  6  \n",
            "0  7  4  \n",
            "\n"
          ]
        }
      ]
    }
  ]
}