{
  "nbformat": 4,
  "nbformat_minor": 0,
  "metadata": {
    "colab": {
      "provenance": []
    },
    "kernelspec": {
      "name": "python3",
      "display_name": "Python 3"
    },
    "language_info": {
      "name": "python"
    }
  },
  "cells": [
    {
      "cell_type": "markdown",
      "source": [
        "This code implements a **Gaussian Naive Bayes classifier** for a binary classification problem. The dataset consists of instances with two features and a class label (0 or 1). The goal is to train the classifier on the dataset and then use it to calculate the probability of a new instance belonging to each class."
      ],
      "metadata": {
        "id": "gvGnSsRhnay0"
      }
    },
    {
      "cell_type": "code",
      "source": [
        "from math import sqrt\n",
        "from math import pi\n",
        "from math import exp\n",
        "def separate_by_class(dataset):\n",
        "    separated = dict()\n",
        "    for i in range(len(dataset)):\n",
        "        vector = dataset[i]\n",
        "        class_value = vector[-1]\n",
        "        if (class_value not in separated):\n",
        "            separated[class_value] = list()\n",
        "        separated[class_value].append(vector)\n",
        "    return separated\n",
        "def mean(numbers):\n",
        "    return sum(numbers)/float(len(numbers))\n",
        "def stdev(numbers):\n",
        "    avg = mean(numbers)\n",
        "    variance = sum([(x-avg)**2 for x in numbers]) / float(len(numbers)-1)\n",
        "    return sqrt(variance)\n",
        "def summarize_dataset(dataset):\n",
        "    summaries = [(mean(column), stdev(column), len(column)) for column in zip(*dataset)]\n",
        "    del(summaries[-1])\n",
        "    return summaries\n",
        "def summarize_by_class(dataset):\n",
        "    separated = separate_by_class(dataset)\n",
        "    summaries = dict()\n",
        "    for class_value, rows in separated.items():\n",
        "        summaries[class_value] = summarize_dataset(rows)\n",
        "    return summaries\n",
        "def calculate_probability(x, mean, stdev):\n",
        "    exponent = exp(-((x-mean)*2 / (2 * stdev*2 )))\n",
        "    return (1 / (sqrt(2 * pi) * stdev)) * exponent\n",
        "def calculate_class_probabilities(summaries, row):\n",
        "    total_rows = sum([summaries[label][0][2] for label in summaries])\n",
        "    probabilities = dict()\n",
        "    for class_value, class_summaries in summaries.items():\n",
        "        probabilities[class_value] = summaries[class_value][0][2]/float(total_rows)\n",
        "        for i in range(len(class_summaries)):\n",
        "            mean, stdev, _ = class_summaries[i]\n",
        "            probabilities[class_value] *= calculate_probability(row[i], mean,stdev)\n",
        "        return probabilities\n",
        "dataset = [[3.393533211,2.331273381,0],\n",
        "[3.110073483,1.781539638,0],\n",
        "[1.343808831,3.368360954,0],\n",
        "[3.582294042,4.67917911,0],\n",
        "[2.280362439,2.866990263,0],\n",
        "[7.423436942,4.696522875,1],\n",
        "[5.745051997,3.533989803,1],\n",
        "[9.172168622,2.511101045,1],\n",
        "[7.792783481,3.424088941,1],\n",
        "[7.939820817,0.791637231,1]]\n",
        "summaries = summarize_by_class(dataset)\n",
        "probabilities = calculate_class_probabilities(summaries, dataset[0])\n",
        "print(probabilities)"
      ],
      "metadata": {
        "id": "Yzgn2QzF1B8Z",
        "outputId": "36273c19-7afb-4b5b-a54a-e9f91015beae",
        "colab": {
          "base_uri": "https://localhost:8080/"
        }
      },
      "execution_count": 1,
      "outputs": [
        {
          "output_type": "stream",
          "name": "stdout",
          "text": [
            "{0: 0.07398740591541654}\n"
          ]
        }
      ]
    }
  ]
}